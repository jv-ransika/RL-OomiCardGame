{
 "cells": [
  {
   "cell_type": "code",
   "execution_count": 1,
   "id": "bb8c4b1e",
   "metadata": {
    "_cell_guid": "65e7fbe7-f82a-42f9-9107-005057b6fb65",
    "_uuid": "5aeea7a8-15a8-4308-b8bf-af96b3364437",
    "collapsed": false,
    "execution": {
     "iopub.execute_input": "2024-07-06T16:25:22.427238Z",
     "iopub.status.busy": "2024-07-06T16:25:22.426729Z",
     "iopub.status.idle": "2024-07-06T16:25:26.375608Z",
     "shell.execute_reply": "2024-07-06T16:25:26.374332Z"
    },
    "executionInfo": {
     "elapsed": 4089,
     "status": "ok",
     "timestamp": 1720234044729,
     "user": {
      "displayName": "J. V. G. Ransika",
      "userId": "13058150827256079313"
     },
     "user_tz": -330
    },
    "id": "vm-wEyBE-1OG",
    "jupyter": {
     "outputs_hidden": false
    },
    "papermill": {
     "duration": 3.962345,
     "end_time": "2024-07-06T16:25:26.378982",
     "exception": false,
     "start_time": "2024-07-06T16:25:22.416637",
     "status": "completed"
    },
    "tags": []
   },
   "outputs": [],
   "source": [
    "import torch\n",
    "import torch.nn as nn\n",
    "import torch.optim as optim\n",
    "import numpy as np\n",
    "from collections import deque\n",
    "import random\n",
    "import time\n",
    "import os"
   ]
  },
  {
   "cell_type": "code",
   "execution_count": 2,
   "id": "81287111",
   "metadata": {
    "_cell_guid": "998e9fb7-2f1d-44c3-841d-b529b1720f89",
    "_uuid": "b75f4956-51bc-4588-8715-20f3e5278bd9",
    "collapsed": false,
    "execution": {
     "iopub.execute_input": "2024-07-06T16:25:26.395420Z",
     "iopub.status.busy": "2024-07-06T16:25:26.394894Z",
     "iopub.status.idle": "2024-07-06T16:25:26.406089Z",
     "shell.execute_reply": "2024-07-06T16:25:26.404909Z"
    },
    "executionInfo": {
     "elapsed": 18,
     "status": "ok",
     "timestamp": 1720234044729,
     "user": {
      "displayName": "J. V. G. Ransika",
      "userId": "13058150827256079313"
     },
     "user_tz": -330
    },
    "id": "YVW2me6t-1OI",
    "jupyter": {
     "outputs_hidden": false
    },
    "papermill": {
     "duration": 0.022303,
     "end_time": "2024-07-06T16:25:26.408820",
     "exception": false,
     "start_time": "2024-07-06T16:25:26.386517",
     "status": "completed"
    },
    "tags": []
   },
   "outputs": [],
   "source": [
    "class LSTMModel(nn.Module):\n",
    "    def __init__(self, input_dim, hidden_dim, output_dim = 0, is_value_net=False):\n",
    "        super(LSTMModel, self).__init__()\n",
    "        self.is_value_net = is_value_net\n",
    "        self.lstm = nn.LSTM(input_dim, hidden_dim, batch_first=True)\n",
    "        self.fc = nn.Linear(hidden_dim, output_dim if not is_value_net else 1)\n",
    "\n",
    "    def forward(self, x, hidden):\n",
    "        out, hidden = self.lstm(x, hidden)\n",
    "        if self.is_value_net:\n",
    "            return self.fc(out[:, -1, :]), hidden\n",
    "        else:  # Policy network\n",
    "            return torch.softmax(self.fc(out[:, -1, :]), dim=-1), hidden\n",
    "\n",
    "    def init_hidden(self, batch_size):\n",
    "        return (torch.zeros(1, batch_size, self.lstm.hidden_size),\n",
    "                torch.zeros(1, batch_size, self.lstm.hidden_size))"
   ]
  },
  {
   "cell_type": "code",
   "execution_count": 3,
   "id": "57c510ca",
   "metadata": {
    "_cell_guid": "c8a2ddbe-4833-4b2b-95e5-e7b679df4e83",
    "_uuid": "d5d56667-b662-4425-ac66-2226c10e694b",
    "collapsed": false,
    "execution": {
     "iopub.execute_input": "2024-07-06T16:25:26.424844Z",
     "iopub.status.busy": "2024-07-06T16:25:26.424450Z",
     "iopub.status.idle": "2024-07-06T16:25:26.432776Z",
     "shell.execute_reply": "2024-07-06T16:25:26.431517Z"
    },
    "executionInfo": {
     "elapsed": 18,
     "status": "ok",
     "timestamp": 1720234044730,
     "user": {
      "displayName": "J. V. G. Ransika",
      "userId": "13058150827256079313"
     },
     "user_tz": -330
    },
    "id": "I9fWKXmg-1OJ",
    "jupyter": {
     "outputs_hidden": false
    },
    "papermill": {
     "duration": 0.019476,
     "end_time": "2024-07-06T16:25:26.435407",
     "exception": false,
     "start_time": "2024-07-06T16:25:26.415931",
     "status": "completed"
    },
    "tags": []
   },
   "outputs": [],
   "source": [
    "SUITES = ['H','D','C','S']\n",
    "\n",
    "RANKS = ['6', '7', '8', '9', 'J', 'Q', 'K', 'A']\n",
    "\n",
    "CARDS = [f'{a}{r}' for a in SUITES for r in RANKS]\n",
    "\n",
    "def sym_to_cat(symbol, d):\n",
    "    return [1 if s in symbol else 0 for s in d]\n",
    "\n",
    "def input_arr(alpha, c_hand, hand, desk_my, desk_enemy):\n",
    "    return np.array(sym_to_cat(alpha, SUITES) + sym_to_cat(c_hand, SUITES) + sym_to_cat(hand, CARDS) + sym_to_cat(desk_my, CARDS) + sym_to_cat(desk_enemy, CARDS))"
   ]
  },
  {
   "cell_type": "code",
   "execution_count": 4,
   "id": "93ade7eb",
   "metadata": {
    "_cell_guid": "23313ba7-c303-4f06-a154-cdf9adcdb456",
    "_uuid": "790033e7-0787-40a0-9030-772ba12624fa",
    "collapsed": false,
    "execution": {
     "iopub.execute_input": "2024-07-06T16:25:26.452274Z",
     "iopub.status.busy": "2024-07-06T16:25:26.451549Z",
     "iopub.status.idle": "2024-07-06T16:25:26.479035Z",
     "shell.execute_reply": "2024-07-06T16:25:26.477656Z"
    },
    "executionInfo": {
     "elapsed": 10,
     "status": "ok",
     "timestamp": 1720234044730,
     "user": {
      "displayName": "J. V. G. Ransika",
      "userId": "13058150827256079313"
     },
     "user_tz": -330
    },
    "id": "4bkXNegY-1OJ",
    "jupyter": {
     "outputs_hidden": false
    },
    "papermill": {
     "duration": 0.039336,
     "end_time": "2024-07-06T16:25:26.481991",
     "exception": false,
     "start_time": "2024-07-06T16:25:26.442655",
     "status": "completed"
    },
    "tags": []
   },
   "outputs": [],
   "source": [
    "class OomiEnvironment:\n",
    "    def __init__(self, policy_net, value_net):\n",
    "        self.players = []\n",
    "        self.desk = [0] * 4  # Desk cards played by each player in a round\n",
    "        self.p_rewards = [0] * 4  # Rewards for each player\n",
    "        self.c_player = None  # Current player\n",
    "        self.cards = CARDS.copy()  # Deck of cards\n",
    "        self.trump = np.random.choice(SUITES)  # Randomly chosen trump suit\n",
    "        self.hand = 'z'  # Current leading suit in play\n",
    "\n",
    "        # Initialize players\n",
    "        for i in range(4):\n",
    "            self.players.append(Player(self, policy_net, value_net, i % 2, i))\n",
    "\n",
    "    def round_reset(self):\n",
    "        self.hand = 'z'\n",
    "        self.desk = [0] * 4\n",
    "        self.p_rewards = [0] * 4\n",
    "\n",
    "    def reset(self):\n",
    "        self.deal_cards()\n",
    "        self.desk = [0] * 4\n",
    "        self.p_rewards = [0] * 4\n",
    "        self.c_player = None\n",
    "        self.hand = 'z'\n",
    "        for player in self.players:\n",
    "            player.reset_hidden()\n",
    "        return self.desk\n",
    "\n",
    "    def deal_cards(self):\n",
    "        random.shuffle(self.cards)\n",
    "        for i in range(4):\n",
    "            self.players[i].actions = self.cards[i * 8:(i + 1) * 8]\n",
    "\n",
    "    def next_player(self):\n",
    "        if self.c_player is None:\n",
    "            self.c_player = 0\n",
    "\n",
    "        if self.desk[self.c_player] != 0:\n",
    "            if self.c_player == 3:\n",
    "                self.c_player = 0\n",
    "            else:\n",
    "                self.c_player += 1\n",
    "        return self.c_player\n",
    "\n",
    "    def card_to_val(self, card, alpha):\n",
    "        v = CARDS.index(card) % 8\n",
    "        if alpha in card:\n",
    "            v += 16\n",
    "        elif self.hand in card:\n",
    "            v += 8\n",
    "        return v\n",
    "\n",
    "    def desk_winner(self):\n",
    "        print(self.desk)\n",
    "        values = [self.card_to_val(card, self.trump) for card in self.desk]\n",
    "        max_value = max(values)\n",
    "        max_indices = [i for i, value in enumerate(values) if value == max_value]\n",
    "\n",
    "        # Check if the max value is unique\n",
    "        is_unique = len(max_indices) == 1\n",
    "\n",
    "        return is_unique, max_indices\n",
    "\n",
    "    def step(self, action, player_id):\n",
    "        # Ensure the action is valid\n",
    "        if action not in self.players[player_id].actions:\n",
    "            return self.desk, -10, False\n",
    "\n",
    "        # Penalize if the player did not follow the suit\n",
    "        if self.desk == [0, 0, 0, 0]:\n",
    "            self.hand = action[0]\n",
    "        else:\n",
    "            if self.hand != action[0]:\n",
    "                if any(self.hand in a for a in self.players[player_id].actions):\n",
    "                    return self.desk, -10, False\n",
    "\n",
    "        pre_state = self.desk.copy()\n",
    "        self.desk[player_id] = action\n",
    "        self.players[player_id].actions.remove(action)\n",
    "\n",
    "        if 0 not in self.desk:\n",
    "            is_win, winner = self.desk_winner()\n",
    "            if is_win:\n",
    "                winning_player = winner[0]\n",
    "                self.p_rewards[winning_player] += 1\n",
    "                if winning_player % 2 == 0:\n",
    "                    self.p_rewards[0] += 1\n",
    "                    self.p_rewards[2] += 1\n",
    "                else:\n",
    "                    self.p_rewards[1] += 1\n",
    "                    self.p_rewards[3] += 1\n",
    "                self.c_player = winning_player\n",
    "            else:\n",
    "                for i in winner:\n",
    "                    self.p_rewards[i] -= 5\n",
    "\n",
    "            self.hand = 'z'\n",
    "            self.desk = [0] * 4\n",
    "            return pre_state, 0, True\n",
    "\n",
    "        return pre_state, 0, False"
   ]
  },
  {
   "cell_type": "code",
   "execution_count": 5,
   "id": "2991a880",
   "metadata": {
    "_cell_guid": "2afcaee6-0fec-40ad-a717-22f02f95c1e3",
    "_uuid": "0b14419d-49d8-48a2-9ef3-25dec324da02",
    "collapsed": false,
    "execution": {
     "iopub.execute_input": "2024-07-06T16:25:26.498524Z",
     "iopub.status.busy": "2024-07-06T16:25:26.497780Z",
     "iopub.status.idle": "2024-07-06T16:25:26.521743Z",
     "shell.execute_reply": "2024-07-06T16:25:26.520500Z"
    },
    "executionInfo": {
     "elapsed": 8,
     "status": "ok",
     "timestamp": 1720234044730,
     "user": {
      "displayName": "J. V. G. Ransika",
      "userId": "13058150827256079313"
     },
     "user_tz": -330
    },
    "id": "sYBr03nl-1OJ",
    "jupyter": {
     "outputs_hidden": false
    },
    "papermill": {
     "duration": 0.035285,
     "end_time": "2024-07-06T16:25:26.524529",
     "exception": false,
     "start_time": "2024-07-06T16:25:26.489244",
     "status": "completed"
    },
    "tags": []
   },
   "outputs": [],
   "source": [
    "# Define the game environment (stub example)\n",
    "class OomiEnvironment:\n",
    "    def __init__(self, policy_net, value_net):\n",
    "        self.players = []\n",
    "        self.desk = [0] * 4\n",
    "        self.p_rewards = [0] * 4\n",
    "        self.c_player = None\n",
    "        self.cards = CARDS.copy()\n",
    "        self.trump = np.random.choice(SUITES)\n",
    "        self.hand = 'z'\n",
    "        self.team_score = [0] * 2\n",
    "\n",
    "        for i in range(4):\n",
    "            self.players.append(Player(self, policy_net, value_net, i%2, i))\n",
    "\n",
    "    def reset_round(self):\n",
    "        self.hand = 'z'\n",
    "        self.desk = [0] * 4\n",
    "        self.p_rewards = [0] * 4\n",
    "\n",
    "\n",
    "    def reset(self):\n",
    "        self.deal_cards()\n",
    "        self.desk = [0] * 4\n",
    "        self.p_rewards = [0] * 4\n",
    "        self.c_player = None\n",
    "        self.hand = 'z'\n",
    "        for player in self.players:\n",
    "            player.reset_hidden()\n",
    "\n",
    "        return self.desk\n",
    "\n",
    "    def desk_winner(self):\n",
    "        values = [self.card_to_val(card, self.trump) for card in self.desk]\n",
    "        max_value = max(values)\n",
    "\n",
    "        return values.index(max_value)\n",
    "\n",
    "    def prep_rewards(self, rewards):\n",
    "        ret = []\n",
    "        for i, r in enumerate(self.p_rewards):\n",
    "            ret.append([l + r for l in rewards[i]])\n",
    "\n",
    "        self.p_rewards = [0] * 4\n",
    "        return ret\n",
    "\n",
    "    def next_player(self):\n",
    "        if self.c_player is None or self.c_player == 3:\n",
    "            self.c_player = 0\n",
    "        else:\n",
    "            self.c_player += 1\n",
    "\n",
    "        return self.c_player\n",
    "\n",
    "    def deal_cards(self):\n",
    "        random.shuffle(self.cards)\n",
    "        for i in range(4):\n",
    "            self.players[i].actions = self.cards[i*8:(i+1)*8]\n",
    "\n",
    "    def card_to_val(self, card, alpha):\n",
    "        v = CARDS.index(card) % 8\n",
    "\n",
    "        if alpha in card:\n",
    "            v += 16\n",
    "        elif self.hand in card:\n",
    "            v += 8\n",
    "\n",
    "        return v\n",
    "\n",
    "    def step(self, action, player_id):\n",
    "        if action not in self.players[player_id].actions:\n",
    "            return self.desk, -10, False, False\n",
    "\n",
    "        # Penalize if the action card has already been played in this round\n",
    "#         if any(self.card_to_val(card, self.alpha, self.players[player_id].actions) == self.card_to_val(action, self.alpha, self.players[player_id].actions) for card in self.desk):\n",
    "#             return self.state, -2, False\n",
    "\n",
    "        if self.desk == [0, 0, 0, 0]:\n",
    "            self.hand = action[0]\n",
    "        else:\n",
    "            if self.hand != action[0]:\n",
    "                if any(self.hand in a for a in self.players[player_id].actions):\n",
    "                    return self.desk, -10, False, False\n",
    "        self.desk[player_id] = action\n",
    "        self.players[player_id].actions.remove(action)\n",
    "\n",
    "        if 0 not in self.desk:\n",
    "            winner = self.desk_winner()\n",
    "            self.p_rewards[winner] += 1\n",
    "            if winner%2==0:\n",
    "                self.p_rewards[0] += 1\n",
    "                self.p_rewards[2] += 1\n",
    "                self.team_score[0] += 1\n",
    "            else:\n",
    "                self.p_rewards[1] += 1\n",
    "                self.p_rewards[3] += 1\n",
    "                self.team_score[1] += 1\n",
    "\n",
    "\n",
    "            if self.players[player_id].actions == []:\n",
    "                return self.desk, 0, True, True\n",
    "            else:\n",
    "                return self.desk, 0, True, False\n",
    "\n",
    "        return self.desk, 0, False, False"
   ]
  },
  {
   "cell_type": "code",
   "execution_count": 6,
   "id": "b8b98db2",
   "metadata": {
    "_cell_guid": "2fcaa918-1252-4c2a-a6a6-9a3e888a3c0e",
    "_uuid": "4d4eb8c4-6d56-4731-9d16-76bcfbccace6",
    "collapsed": false,
    "execution": {
     "iopub.execute_input": "2024-07-06T16:25:26.540795Z",
     "iopub.status.busy": "2024-07-06T16:25:26.540373Z",
     "iopub.status.idle": "2024-07-06T16:25:26.553812Z",
     "shell.execute_reply": "2024-07-06T16:25:26.552602Z"
    },
    "executionInfo": {
     "elapsed": 9,
     "status": "ok",
     "timestamp": 1720234044731,
     "user": {
      "displayName": "J. V. G. Ransika",
      "userId": "13058150827256079313"
     },
     "user_tz": -330
    },
    "id": "UTFbQqVh-1OJ",
    "jupyter": {
     "outputs_hidden": false
    },
    "papermill": {
     "duration": 0.024663,
     "end_time": "2024-07-06T16:25:26.556377",
     "exception": false,
     "start_time": "2024-07-06T16:25:26.531714",
     "status": "completed"
    },
    "tags": []
   },
   "outputs": [],
   "source": [
    "class Player:\n",
    "    def __init__(self, env, policy_net, value_net, team, id):\n",
    "        self.policy_net = policy_net\n",
    "        self.value_net = value_net\n",
    "        self.env = env\n",
    "        self.actions = []\n",
    "        self.pre_rewards = []\n",
    "        self.policy_hidden = self.policy_net.init_hidden(1)\n",
    "        self.value_hidden = self.value_net.init_hidden(1)\n",
    "        self.team = team\n",
    "        self.id = id\n",
    "\n",
    "\n",
    "    def reset_hidden(self):\n",
    "        self.policy_hidden = self.policy_net.init_hidden(1)\n",
    "        self.value_hidden = self.value_net.init_hidden(1)\n",
    "\n",
    "\n",
    "    def play(self):\n",
    "        state = torch.tensor(input_arr(self.env.trump, self.env.hand, self.actions, [c for i, c in enumerate(self.env.desk) if i%2 == self.team], [c for i, c in enumerate(self.env.desk) if i%2 != self.team]), dtype=torch.float32).unsqueeze(0).unsqueeze(0)\n",
    "\n",
    "        # state_tensor = torch.tensor(state, dtype=torch.float32).unsqueeze(0).unsqueeze(0)\n",
    "        action_probs, self.policy_hidden = self.policy_net(state, self.policy_hidden)\n",
    "\n",
    "        try:\n",
    "            action = torch.multinomial(action_probs, 1).item()\n",
    "        except RuntimeError:\n",
    "            print(f'action probs - {action_probs}')\n",
    "            print(f'state - {state}')\n",
    "            print(f'policy_hidden - {self.policy_hidden}')\n",
    "            raise RuntimeError\n",
    "\n",
    "        next_state, reward, r_done, done = self.env.step(CARDS[action], self.id)\n",
    "\n",
    "        return state,action,reward, r_done, done"
   ]
  },
  {
   "cell_type": "code",
   "execution_count": 7,
   "id": "b9c954fc",
   "metadata": {
    "_cell_guid": "9b20ace7-a888-4657-aa9e-2cb6d1ac1d0b",
    "_uuid": "783a3daa-754e-470c-89e2-5c44c9652e5a",
    "collapsed": false,
    "execution": {
     "iopub.execute_input": "2024-07-06T16:25:26.573726Z",
     "iopub.status.busy": "2024-07-06T16:25:26.572600Z",
     "iopub.status.idle": "2024-07-06T16:25:26.580032Z",
     "shell.execute_reply": "2024-07-06T16:25:26.578903Z"
    },
    "executionInfo": {
     "elapsed": 8,
     "status": "ok",
     "timestamp": 1720234044731,
     "user": {
      "displayName": "J. V. G. Ransika",
      "userId": "13058150827256079313"
     },
     "user_tz": -330
    },
    "id": "pL_QxEzlJsrk",
    "jupyter": {
     "outputs_hidden": false
    },
    "papermill": {
     "duration": 0.018877,
     "end_time": "2024-07-06T16:25:26.582682",
     "exception": false,
     "start_time": "2024-07-06T16:25:26.563805",
     "status": "completed"
    },
    "tags": []
   },
   "outputs": [],
   "source": [
    "class ReplayBuffer:\n",
    "    def __init__(self, capacity):\n",
    "        self.buffer = deque(maxlen=capacity)\n",
    "\n",
    "    def push(self, states, actions, rewards):\n",
    "        self.buffer.append((states, actions, rewards))\n",
    "\n",
    "    def sample(self, batch_size):\n",
    "        return random.sample(self.buffer, batch_size)\n",
    "\n",
    "    def __len__(self):\n",
    "        return len(self.buffer)"
   ]
  },
  {
   "cell_type": "code",
   "execution_count": 8,
   "id": "30878824",
   "metadata": {
    "_cell_guid": "4b814f6d-f1e6-44da-af6f-eca61344941e",
    "_uuid": "2d1cb691-ae62-40ea-bc36-f6f718633a5c",
    "collapsed": false,
    "execution": {
     "iopub.execute_input": "2024-07-06T16:25:26.598605Z",
     "iopub.status.busy": "2024-07-06T16:25:26.598182Z",
     "iopub.status.idle": "2024-07-06T16:25:26.625130Z",
     "shell.execute_reply": "2024-07-06T16:25:26.623800Z"
    },
    "executionInfo": {
     "elapsed": 4,
     "status": "ok",
     "timestamp": 1720234045276,
     "user": {
      "displayName": "J. V. G. Ransika",
      "userId": "13058150827256079313"
     },
     "user_tz": -330
    },
    "id": "hjW4PCCI-1OK",
    "jupyter": {
     "outputs_hidden": false
    },
    "papermill": {
     "duration": 0.038131,
     "end_time": "2024-07-06T16:25:26.627860",
     "exception": false,
     "start_time": "2024-07-06T16:25:26.589729",
     "status": "completed"
    },
    "tags": []
   },
   "outputs": [],
   "source": [
    "# Load the TensorBoard notebook extension\n",
    "%load_ext tensorboard"
   ]
  },
  {
   "cell_type": "code",
   "execution_count": 9,
   "id": "c12b24f1",
   "metadata": {
    "_cell_guid": "778d6b4b-e43e-4901-8354-a1e3cea0dc77",
    "_uuid": "4a68b3de-7eec-4043-bcb3-89e6b313e007",
    "collapsed": false,
    "execution": {
     "iopub.execute_input": "2024-07-06T16:25:26.643775Z",
     "iopub.status.busy": "2024-07-06T16:25:26.643342Z",
     "iopub.status.idle": "2024-07-06T16:25:43.382594Z",
     "shell.execute_reply": "2024-07-06T16:25:43.381361Z"
    },
    "executionInfo": {
     "elapsed": 4980,
     "status": "ok",
     "timestamp": 1720234051230,
     "user": {
      "displayName": "J. V. G. Ransika",
      "userId": "13058150827256079313"
     },
     "user_tz": -330
    },
    "id": "QkYLMPe-_UWZ",
    "jupyter": {
     "outputs_hidden": false
    },
    "papermill": {
     "duration": 16.750659,
     "end_time": "2024-07-06T16:25:43.385577",
     "exception": false,
     "start_time": "2024-07-06T16:25:26.634918",
     "status": "completed"
    },
    "tags": []
   },
   "outputs": [
    {
     "name": "stderr",
     "output_type": "stream",
     "text": [
      "2024-07-06 16:25:29.633709: E external/local_xla/xla/stream_executor/cuda/cuda_dnn.cc:9261] Unable to register cuDNN factory: Attempting to register factory for plugin cuDNN when one has already been registered\n",
      "2024-07-06 16:25:29.633887: E external/local_xla/xla/stream_executor/cuda/cuda_fft.cc:607] Unable to register cuFFT factory: Attempting to register factory for plugin cuFFT when one has already been registered\n",
      "2024-07-06 16:25:29.818743: E external/local_xla/xla/stream_executor/cuda/cuda_blas.cc:1515] Unable to register cuBLAS factory: Attempting to register factory for plugin cuBLAS when one has already been registered\n"
     ]
    }
   ],
   "source": [
    "from torch.utils.tensorboard import SummaryWriter\n",
    "writer = SummaryWriter()"
   ]
  },
  {
   "cell_type": "code",
   "execution_count": 10,
   "id": "3b156c9e",
   "metadata": {
    "_cell_guid": "7292c07d-915f-473d-903b-6432fe5f5681",
    "_uuid": "bf58f0fb-5d71-41dc-ba14-c72ef93d353c",
    "collapsed": false,
    "execution": {
     "iopub.execute_input": "2024-07-06T16:25:43.404429Z",
     "iopub.status.busy": "2024-07-06T16:25:43.403137Z",
     "iopub.status.idle": "2024-07-06T16:26:13.065129Z",
     "shell.execute_reply": "2024-07-06T16:26:13.063707Z"
    },
    "id": "fkZQPMMk-1OK",
    "jupyter": {
     "outputs_hidden": false
    },
    "papermill": {
     "duration": 29.674266,
     "end_time": "2024-07-06T16:26:13.068126",
     "exception": false,
     "start_time": "2024-07-06T16:25:43.393860",
     "status": "completed"
    },
    "tags": []
   },
   "outputs": [],
   "source": [
    "from math import e\n",
    "import time\n",
    "\n",
    "time.sleep(3)\n",
    "\n",
    "# Define paths to save and load the models\n",
    "policy_model_path = 'policy_model.pth'\n",
    "value_model_path = 'value_model.pth'\n",
    "backup_directory = '/content/drive/My Drive/Colab Notebooks/Oomi Backups' # Replace with your path\n",
    "\n",
    "\n",
    "# Initialize the models and optimizers\n",
    "input_dim = 104\n",
    "hidden_dim = 128\n",
    "output_dim = 32\n",
    "\n",
    "batch_size = 32\n",
    "\n",
    "\n",
    "# Initialize Replay Buffer\n",
    "replay_buffer = ReplayBuffer(capacity=1000)  # Adjust capacity as needed\n",
    "\n",
    "# policy_net = LSTMModel(input_dim, hidden_dim, output_dim)\n",
    "# value_net = LSTMModel(input_dim, hidden_dim, output_dim, is_value_net=True)\n",
    "\n",
    "# Load existing models if available, otherwise create new ones\n",
    "if os.path.exists(policy_model_path):\n",
    "    policy_net = torch.load(policy_model_path)\n",
    "else:\n",
    "    policy_net = LSTMModel(input_dim, hidden_dim, output_dim)\n",
    "\n",
    "if os.path.exists(value_model_path):\n",
    "    value_net = torch.load(value_model_path)\n",
    "else:\n",
    "    value_net = LSTMModel(input_dim, hidden_dim, output_dim, is_value_net=True)\n",
    "\n",
    "\n",
    "env = OomiEnvironment(policy_net, value_net)\n",
    "policy_optimizer = optim.Adam(policy_net.parameters(), lr=1e-3)\n",
    "value_optimizer = optim.Adam(value_net.parameters(), lr=1e-3)\n",
    "\n",
    "# Training loop\n",
    "num_episodes = 100\n",
    "gamma = 0.99\n",
    "\n",
    "for episode in range(num_episodes):\n",
    "    # Reset hidden states for all players\n",
    "    for player in env.players:\n",
    "        player.reset_hidden()\n",
    "\n",
    "    desk = env.reset()\n",
    "    done = False\n",
    "    states = [[] for _ in range(4)]\n",
    "    actions = [[] for _ in range(4)]\n",
    "    rewards = [[] for _ in range(4)]\n",
    "\n",
    "    for _ in range(8):\n",
    "        r_done = False\n",
    "        r_rewards = [[] for _ in range(4)]\n",
    "        for id in range(4):\n",
    "              state, action, reward, r_done, done = env.players[id].play()\n",
    "              states[id].append(state.tolist())\n",
    "              actions[id].append(action)\n",
    "              r_rewards[id].append(reward)\n",
    "\n",
    "        r_rewards = env.prep_rewards(r_rewards)\n",
    "        for i in range(4):\n",
    "            rewards[i].extend(r_rewards[i])\n",
    "        env.reset_round()\n",
    "\n",
    "    # add some overoll rewards\n",
    "    for i in range(4):\n",
    "        env.p_rewards[i] = env.team_score[i%2]\n",
    "    # if env.team_score[0] > env.team_score[1]:\n",
    "    #     env.p_rewards[0] += 5\n",
    "    #     env.p_rewards[2] += 5\n",
    "    # elif env.team_score[0] < env.team_score[1]:\n",
    "    #     env.p_rewards[1] += 5\n",
    "    #     env.p_rewards[3] += 5\n",
    "\n",
    "    rewards = env.prep_rewards(rewards)\n",
    "\n",
    "    for i in range(4):\n",
    "      replay_buffer.push(torch.tensor(states[i], dtype=torch.float32).squeeze(1),\n",
    "                         torch.tensor(actions[i], dtype=torch.int),\n",
    "                         torch.tensor(rewards, dtype=torch.float32))\n",
    "\n",
    "    # Sample from the replay buffer and update the networks\n",
    "    if len(replay_buffer) > batch_size:\n",
    "        policy_losses = []\n",
    "        value_losses = []\n",
    "\n",
    "        for states, actions, rewards  in replay_buffer.sample(batch_size):\n",
    "            sample_size = states.size(0)\n",
    "\n",
    "            # Policy Network Forward Pass\n",
    "            policy_hidden = policy_net.init_hidden(sample_size)\n",
    "            action_probs, policy_hidden = policy_net(states, policy_hidden)\n",
    "            selected_action_probs = action_probs[np.arange(sample_size), actions]\n",
    "\n",
    "            # Value Network Forward Pass\n",
    "            value_hidden = value_net.init_hidden(sample_size)\n",
    "            state_values, value_hidden = value_net(states, value_hidden)\n",
    "            state_values = state_values.squeeze()\n",
    "\n",
    "            advantages = rewards - state_values\n",
    "\n",
    "            # Compute policy loss and value loss\n",
    "            policy_loss = -torch.mean(torch.log(selected_action_probs + 1e-8) * advantages.detach())\n",
    "            value_loss = torch.mean((state_values - rewards) ** 2)\n",
    "\n",
    "            policy_losses.append(policy_loss.item())\n",
    "            value_losses.append(value_loss.item())\n",
    "\n",
    "            total_loss = policy_loss + value_loss\n",
    "\n",
    "            policy_optimizer.zero_grad()\n",
    "            value_optimizer.zero_grad()\n",
    "\n",
    "            total_loss.backward()\n",
    "\n",
    "            # Gradient clipping\n",
    "            torch.nn.utils.clip_grad_norm_(policy_net.parameters(), 0.5)\n",
    "            torch.nn.utils.clip_grad_norm_(value_net.parameters(), 0.5)\n",
    "\n",
    "            policy_optimizer.step()\n",
    "            value_optimizer.step()\n",
    "\n",
    "        policy_loss_mean = torch.mean(torch.tensor(policy_losses, dtype=torch.float32))\n",
    "        value_loss_mean = torch.mean(torch.tensor(value_losses, dtype=torch.float32))\n",
    "\n",
    "        writer.add_scalar(\"Loss/policy\", policy_loss_mean.item(), episode)\n",
    "        writer.add_scalar(\"Loss/value\", value_loss_mean.item(), episode)\n",
    "\n",
    "\n",
    "    # Save the models after each episode\n",
    "    torch.save(policy_net, policy_model_path)\n",
    "    torch.save(value_net, value_model_path)\n",
    "    os.makedirs(backup_directory, exist_ok=True)\n",
    "    torch.save(policy_net, os.path.join(backup_directory, f'policy_model.pth'))\n",
    "    torch.save(value_net, os.path.join(backup_directory, f'value_model.pth'))\n",
    "\n",
    "    try:\n",
    "        if episode % 1000 == 0:\n",
    "            print(f'Episode {episode}, Policy Loss: {policy_loss_mean.item()}, Value Loss: {value_loss_mean.item()}')\n",
    "    except NameError:\n",
    "        pass\n",
    "\n",
    "\n",
    "writer.flush()\n",
    "writer.close()"
   ]
  },
  {
   "cell_type": "code",
   "execution_count": 11,
   "id": "f5423624",
   "metadata": {
    "_cell_guid": "5992ab16-84d4-4ba5-b246-2d3bf08976c0",
    "_uuid": "0455198c-69d0-429c-9b7e-a84eb7a9aa5c",
    "collapsed": false,
    "execution": {
     "iopub.execute_input": "2024-07-06T16:26:13.084794Z",
     "iopub.status.busy": "2024-07-06T16:26:13.084363Z",
     "iopub.status.idle": "2024-07-06T16:26:20.611940Z",
     "shell.execute_reply": "2024-07-06T16:26:20.610611Z"
    },
    "executionInfo": {
     "elapsed": 5983,
     "status": "ok",
     "timestamp": 1720201717546,
     "user": {
      "displayName": "J. V. G. Ransika",
      "userId": "13058150827256079313"
     },
     "user_tz": -330
    },
    "id": "TqWKsKhe-1OK",
    "jupyter": {
     "outputs_hidden": false
    },
    "outputId": "8e757726-2bca-4f9e-fa96-7a5678e44a8a",
    "papermill": {
     "duration": 7.539132,
     "end_time": "2024-07-06T16:26:20.614815",
     "exception": false,
     "start_time": "2024-07-06T16:26:13.075683",
     "status": "completed"
    },
    "tags": []
   },
   "outputs": [
    {
     "data": {
      "text/html": [
       "\n",
       "      <iframe id=\"tensorboard-frame-9b37bad0ae474dc\" width=\"100%\" height=\"800\" frameborder=\"0\">\n",
       "      </iframe>\n",
       "      <script>\n",
       "        (function() {\n",
       "          const frame = document.getElementById(\"tensorboard-frame-9b37bad0ae474dc\");\n",
       "          const url = new URL(\"/\", window.location);\n",
       "          const port = 6006;\n",
       "          if (port) {\n",
       "            url.port = port;\n",
       "          }\n",
       "          frame.src = url;\n",
       "        })();\n",
       "      </script>\n",
       "    "
      ],
      "text/plain": [
       "<IPython.core.display.HTML object>"
      ]
     },
     "metadata": {},
     "output_type": "display_data"
    }
   ],
   "source": [
    "%tensorboard --logdir runs"
   ]
  },
  {
   "cell_type": "code",
   "execution_count": null,
   "id": "3abeff2e",
   "metadata": {
    "_cell_guid": "f0449e93-63b8-4fd6-a7b3-98718d00ec8f",
    "_uuid": "2027cf31-36e8-442a-a2d4-ff8f015ca73f",
    "collapsed": false,
    "id": "JFWapSOKB7ZE",
    "jupyter": {
     "outputs_hidden": false
    },
    "papermill": {
     "duration": 0.007527,
     "end_time": "2024-07-06T16:26:20.630016",
     "exception": false,
     "start_time": "2024-07-06T16:26:20.622489",
     "status": "completed"
    },
    "tags": []
   },
   "outputs": [],
   "source": []
  }
 ],
 "metadata": {
  "colab": {
   "name": "",
   "version": ""
  },
  "kaggle": {
   "accelerator": "none",
   "dataSources": [],
   "dockerImageVersionId": 30732,
   "isGpuEnabled": false,
   "isInternetEnabled": true,
   "language": "python",
   "sourceType": "notebook"
  },
  "kernelspec": {
   "display_name": "Python 3",
   "language": "python",
   "name": "python3"
  },
  "language_info": {
   "codemirror_mode": {
    "name": "ipython",
    "version": 3
   },
   "file_extension": ".py",
   "mimetype": "text/x-python",
   "name": "python",
   "nbconvert_exporter": "python",
   "pygments_lexer": "ipython3",
   "version": "3.10.13"
  },
  "papermill": {
   "default_parameters": {},
   "duration": 64.103593,
   "end_time": "2024-07-06T16:26:23.259887",
   "environment_variables": {},
   "exception": null,
   "input_path": "__notebook__.ipynb",
   "output_path": "__notebook__.ipynb",
   "parameters": {},
   "start_time": "2024-07-06T16:25:19.156294",
   "version": "2.5.0"
  }
 },
 "nbformat": 4,
 "nbformat_minor": 5
}
