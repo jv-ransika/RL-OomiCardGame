{
 "cells": [
  {
   "cell_type": "code",
   "execution_count": 1,
   "id": "77be21cd",
   "metadata": {
    "_cell_guid": "65e7fbe7-f82a-42f9-9107-005057b6fb65",
    "_uuid": "5aeea7a8-15a8-4308-b8bf-af96b3364437",
    "collapsed": false,
    "execution": {
     "iopub.execute_input": "2024-07-06T16:30:31.117652Z",
     "iopub.status.busy": "2024-07-06T16:30:31.117275Z",
     "iopub.status.idle": "2024-07-06T16:30:34.507479Z",
     "shell.execute_reply": "2024-07-06T16:30:34.506275Z"
    },
    "executionInfo": {
     "elapsed": 4089,
     "status": "ok",
     "timestamp": 1720234044729,
     "user": {
      "displayName": "J. V. G. Ransika",
      "userId": "13058150827256079313"
     },
     "user_tz": -330
    },
    "id": "vm-wEyBE-1OG",
    "jupyter": {
     "outputs_hidden": false
    },
    "papermill": {
     "duration": 3.400179,
     "end_time": "2024-07-06T16:30:34.510097",
     "exception": false,
     "start_time": "2024-07-06T16:30:31.109918",
     "status": "completed"
    },
    "tags": []
   },
   "outputs": [],
   "source": [
    "import torch\n",
    "import torch.nn as nn\n",
    "import torch.optim as optim\n",
    "import numpy as np\n",
    "from collections import deque\n",
    "import random\n",
    "import time\n",
    "import os"
   ]
  },
  {
   "cell_type": "code",
   "execution_count": 2,
   "id": "d0b47fb5",
   "metadata": {
    "_cell_guid": "998e9fb7-2f1d-44c3-841d-b529b1720f89",
    "_uuid": "b75f4956-51bc-4588-8715-20f3e5278bd9",
    "collapsed": false,
    "execution": {
     "iopub.execute_input": "2024-07-06T16:30:34.522275Z",
     "iopub.status.busy": "2024-07-06T16:30:34.521782Z",
     "iopub.status.idle": "2024-07-06T16:30:34.529999Z",
     "shell.execute_reply": "2024-07-06T16:30:34.528976Z"
    },
    "executionInfo": {
     "elapsed": 18,
     "status": "ok",
     "timestamp": 1720234044729,
     "user": {
      "displayName": "J. V. G. Ransika",
      "userId": "13058150827256079313"
     },
     "user_tz": -330
    },
    "id": "YVW2me6t-1OI",
    "jupyter": {
     "outputs_hidden": false
    },
    "papermill": {
     "duration": 0.01659,
     "end_time": "2024-07-06T16:30:34.532128",
     "exception": false,
     "start_time": "2024-07-06T16:30:34.515538",
     "status": "completed"
    },
    "tags": []
   },
   "outputs": [],
   "source": [
    "class LSTMModel(nn.Module):\n",
    "    def __init__(self, input_dim, hidden_dim, output_dim = 0, is_value_net=False):\n",
    "        super(LSTMModel, self).__init__()\n",
    "        self.is_value_net = is_value_net\n",
    "        self.lstm = nn.LSTM(input_dim, hidden_dim, batch_first=True)\n",
    "        self.fc = nn.Linear(hidden_dim, output_dim if not is_value_net else 1)\n",
    "\n",
    "    def forward(self, x, hidden):\n",
    "        out, hidden = self.lstm(x, hidden)\n",
    "        if self.is_value_net:\n",
    "            return self.fc(out[:, -1, :]), hidden\n",
    "        else:  # Policy network\n",
    "            return torch.softmax(self.fc(out[:, -1, :]), dim=-1), hidden\n",
    "\n",
    "    def init_hidden(self, batch_size):\n",
    "        return (torch.zeros(1, batch_size, self.lstm.hidden_size),\n",
    "                torch.zeros(1, batch_size, self.lstm.hidden_size))"
   ]
  },
  {
   "cell_type": "code",
   "execution_count": 3,
   "id": "35688b36",
   "metadata": {
    "_cell_guid": "c8a2ddbe-4833-4b2b-95e5-e7b679df4e83",
    "_uuid": "d5d56667-b662-4425-ac66-2226c10e694b",
    "collapsed": false,
    "execution": {
     "iopub.execute_input": "2024-07-06T16:30:34.543757Z",
     "iopub.status.busy": "2024-07-06T16:30:34.543306Z",
     "iopub.status.idle": "2024-07-06T16:30:34.550172Z",
     "shell.execute_reply": "2024-07-06T16:30:34.549092Z"
    },
    "executionInfo": {
     "elapsed": 18,
     "status": "ok",
     "timestamp": 1720234044730,
     "user": {
      "displayName": "J. V. G. Ransika",
      "userId": "13058150827256079313"
     },
     "user_tz": -330
    },
    "id": "I9fWKXmg-1OJ",
    "jupyter": {
     "outputs_hidden": false
    },
    "papermill": {
     "duration": 0.015251,
     "end_time": "2024-07-06T16:30:34.552465",
     "exception": false,
     "start_time": "2024-07-06T16:30:34.537214",
     "status": "completed"
    },
    "tags": []
   },
   "outputs": [],
   "source": [
    "SUITES = ['H','D','C','S']\n",
    "\n",
    "RANKS = ['6', '7', '8', '9', 'J', 'Q', 'K', 'A']\n",
    "\n",
    "CARDS = [f'{a}{r}' for a in SUITES for r in RANKS]\n",
    "\n",
    "def sym_to_cat(symbol, d):\n",
    "    return [1 if s in symbol else 0 for s in d]\n",
    "\n",
    "def input_arr(alpha, c_hand, hand, desk_my, desk_enemy):\n",
    "    return np.array(sym_to_cat(alpha, SUITES) + sym_to_cat(c_hand, SUITES) + sym_to_cat(hand, CARDS) + sym_to_cat(desk_my, CARDS) + sym_to_cat(desk_enemy, CARDS))"
   ]
  },
  {
   "cell_type": "code",
   "execution_count": 4,
   "id": "e1cfaf33",
   "metadata": {
    "_cell_guid": "23313ba7-c303-4f06-a154-cdf9adcdb456",
    "_uuid": "790033e7-0787-40a0-9030-772ba12624fa",
    "collapsed": false,
    "execution": {
     "iopub.execute_input": "2024-07-06T16:30:34.564688Z",
     "iopub.status.busy": "2024-07-06T16:30:34.564317Z",
     "iopub.status.idle": "2024-07-06T16:30:34.583508Z",
     "shell.execute_reply": "2024-07-06T16:30:34.582582Z"
    },
    "executionInfo": {
     "elapsed": 10,
     "status": "ok",
     "timestamp": 1720234044730,
     "user": {
      "displayName": "J. V. G. Ransika",
      "userId": "13058150827256079313"
     },
     "user_tz": -330
    },
    "id": "4bkXNegY-1OJ",
    "jupyter": {
     "outputs_hidden": false
    },
    "papermill": {
     "duration": 0.028326,
     "end_time": "2024-07-06T16:30:34.585884",
     "exception": false,
     "start_time": "2024-07-06T16:30:34.557558",
     "status": "completed"
    },
    "tags": []
   },
   "outputs": [],
   "source": [
    "class OomiEnvironment:\n",
    "    def __init__(self, policy_net, value_net):\n",
    "        self.players = []\n",
    "        self.desk = [0] * 4  # Desk cards played by each player in a round\n",
    "        self.p_rewards = [0] * 4  # Rewards for each player\n",
    "        self.c_player = None  # Current player\n",
    "        self.cards = CARDS.copy()  # Deck of cards\n",
    "        self.trump = np.random.choice(SUITES)  # Randomly chosen trump suit\n",
    "        self.hand = 'z'  # Current leading suit in play\n",
    "\n",
    "        # Initialize players\n",
    "        for i in range(4):\n",
    "            self.players.append(Player(self, policy_net, value_net, i % 2, i))\n",
    "\n",
    "    def round_reset(self):\n",
    "        self.hand = 'z'\n",
    "        self.desk = [0] * 4\n",
    "        self.p_rewards = [0] * 4\n",
    "\n",
    "    def reset(self):\n",
    "        self.deal_cards()\n",
    "        self.desk = [0] * 4\n",
    "        self.p_rewards = [0] * 4\n",
    "        self.c_player = None\n",
    "        self.hand = 'z'\n",
    "        for player in self.players:\n",
    "            player.reset_hidden()\n",
    "        return self.desk\n",
    "\n",
    "    def deal_cards(self):\n",
    "        random.shuffle(self.cards)\n",
    "        for i in range(4):\n",
    "            self.players[i].actions = self.cards[i * 8:(i + 1) * 8]\n",
    "\n",
    "    def next_player(self):\n",
    "        if self.c_player is None:\n",
    "            self.c_player = 0\n",
    "\n",
    "        if self.desk[self.c_player] != 0:\n",
    "            if self.c_player == 3:\n",
    "                self.c_player = 0\n",
    "            else:\n",
    "                self.c_player += 1\n",
    "        return self.c_player\n",
    "\n",
    "    def card_to_val(self, card, alpha):\n",
    "        v = CARDS.index(card) % 8\n",
    "        if alpha in card:\n",
    "            v += 16\n",
    "        elif self.hand in card:\n",
    "            v += 8\n",
    "        return v\n",
    "\n",
    "    def desk_winner(self):\n",
    "        print(self.desk)\n",
    "        values = [self.card_to_val(card, self.trump) for card in self.desk]\n",
    "        max_value = max(values)\n",
    "        max_indices = [i for i, value in enumerate(values) if value == max_value]\n",
    "\n",
    "        # Check if the max value is unique\n",
    "        is_unique = len(max_indices) == 1\n",
    "\n",
    "        return is_unique, max_indices\n",
    "\n",
    "    def step(self, action, player_id):\n",
    "        # Ensure the action is valid\n",
    "        if action not in self.players[player_id].actions:\n",
    "            return self.desk, -10, False\n",
    "\n",
    "        # Penalize if the player did not follow the suit\n",
    "        if self.desk == [0, 0, 0, 0]:\n",
    "            self.hand = action[0]\n",
    "        else:\n",
    "            if self.hand != action[0]:\n",
    "                if any(self.hand in a for a in self.players[player_id].actions):\n",
    "                    return self.desk, -10, False\n",
    "\n",
    "        pre_state = self.desk.copy()\n",
    "        self.desk[player_id] = action\n",
    "        self.players[player_id].actions.remove(action)\n",
    "\n",
    "        if 0 not in self.desk:\n",
    "            is_win, winner = self.desk_winner()\n",
    "            if is_win:\n",
    "                winning_player = winner[0]\n",
    "                self.p_rewards[winning_player] += 1\n",
    "                if winning_player % 2 == 0:\n",
    "                    self.p_rewards[0] += 1\n",
    "                    self.p_rewards[2] += 1\n",
    "                else:\n",
    "                    self.p_rewards[1] += 1\n",
    "                    self.p_rewards[3] += 1\n",
    "                self.c_player = winning_player\n",
    "            else:\n",
    "                for i in winner:\n",
    "                    self.p_rewards[i] -= 5\n",
    "\n",
    "            self.hand = 'z'\n",
    "            self.desk = [0] * 4\n",
    "            return pre_state, 0, True\n",
    "\n",
    "        return pre_state, 0, False"
   ]
  },
  {
   "cell_type": "code",
   "execution_count": 5,
   "id": "ac682acb",
   "metadata": {
    "_cell_guid": "2afcaee6-0fec-40ad-a717-22f02f95c1e3",
    "_uuid": "0b14419d-49d8-48a2-9ef3-25dec324da02",
    "collapsed": false,
    "execution": {
     "iopub.execute_input": "2024-07-06T16:30:34.598171Z",
     "iopub.status.busy": "2024-07-06T16:30:34.597797Z",
     "iopub.status.idle": "2024-07-06T16:30:34.614665Z",
     "shell.execute_reply": "2024-07-06T16:30:34.613665Z"
    },
    "executionInfo": {
     "elapsed": 8,
     "status": "ok",
     "timestamp": 1720234044730,
     "user": {
      "displayName": "J. V. G. Ransika",
      "userId": "13058150827256079313"
     },
     "user_tz": -330
    },
    "id": "sYBr03nl-1OJ",
    "jupyter": {
     "outputs_hidden": false
    },
    "papermill": {
     "duration": 0.02582,
     "end_time": "2024-07-06T16:30:34.616817",
     "exception": false,
     "start_time": "2024-07-06T16:30:34.590997",
     "status": "completed"
    },
    "tags": []
   },
   "outputs": [],
   "source": [
    "# Define the game environment (stub example)\n",
    "class OomiEnvironment:\n",
    "    def __init__(self, policy_net, value_net):\n",
    "        self.players = []\n",
    "        self.desk = [0] * 4\n",
    "        self.p_rewards = [0] * 4\n",
    "        self.c_player = None\n",
    "        self.cards = CARDS.copy()\n",
    "        self.trump = np.random.choice(SUITES)\n",
    "        self.hand = 'z'\n",
    "        self.team_score = [0] * 2\n",
    "\n",
    "        for i in range(4):\n",
    "            self.players.append(Player(self, policy_net, value_net, i%2, i))\n",
    "\n",
    "    def reset_round(self):\n",
    "        self.hand = 'z'\n",
    "        self.desk = [0] * 4\n",
    "        self.p_rewards = [0] * 4\n",
    "\n",
    "\n",
    "    def reset(self):\n",
    "        self.deal_cards()\n",
    "        self.desk = [0] * 4\n",
    "        self.p_rewards = [0] * 4\n",
    "        self.c_player = None\n",
    "        self.hand = 'z'\n",
    "        for player in self.players:\n",
    "            player.reset_hidden()\n",
    "\n",
    "        return self.desk\n",
    "\n",
    "    def desk_winner(self):\n",
    "        values = [self.card_to_val(card, self.trump) for card in self.desk]\n",
    "        max_value = max(values)\n",
    "\n",
    "        return values.index(max_value)\n",
    "\n",
    "    def prep_rewards(self, rewards):\n",
    "        ret = []\n",
    "        for i, r in enumerate(self.p_rewards):\n",
    "            ret.append([l + r for l in rewards[i]])\n",
    "\n",
    "        self.p_rewards = [0] * 4\n",
    "        return ret\n",
    "\n",
    "    def next_player(self):\n",
    "        if self.c_player is None or self.c_player == 3:\n",
    "            self.c_player = 0\n",
    "        else:\n",
    "            self.c_player += 1\n",
    "\n",
    "        return self.c_player\n",
    "\n",
    "    def deal_cards(self):\n",
    "        random.shuffle(self.cards)\n",
    "        for i in range(4):\n",
    "            self.players[i].actions = self.cards[i*8:(i+1)*8]\n",
    "\n",
    "    def card_to_val(self, card, alpha):\n",
    "        v = CARDS.index(card) % 8\n",
    "\n",
    "        if alpha in card:\n",
    "            v += 16\n",
    "        elif self.hand in card:\n",
    "            v += 8\n",
    "\n",
    "        return v\n",
    "\n",
    "    def step(self, action, player_id):\n",
    "        if action not in self.players[player_id].actions:\n",
    "            return self.desk, -10, False, False\n",
    "\n",
    "        # Penalize if the action card has already been played in this round\n",
    "#         if any(self.card_to_val(card, self.alpha, self.players[player_id].actions) == self.card_to_val(action, self.alpha, self.players[player_id].actions) for card in self.desk):\n",
    "#             return self.state, -2, False\n",
    "\n",
    "        if self.desk == [0, 0, 0, 0]:\n",
    "            self.hand = action[0]\n",
    "        else:\n",
    "            if self.hand != action[0]:\n",
    "                if any(self.hand in a for a in self.players[player_id].actions):\n",
    "                    return self.desk, -10, False, False\n",
    "        self.desk[player_id] = action\n",
    "        self.players[player_id].actions.remove(action)\n",
    "\n",
    "        if 0 not in self.desk:\n",
    "            winner = self.desk_winner()\n",
    "            self.p_rewards[winner] += 1\n",
    "            if winner%2==0:\n",
    "                self.p_rewards[0] += 1\n",
    "                self.p_rewards[2] += 1\n",
    "                self.team_score[0] += 1\n",
    "            else:\n",
    "                self.p_rewards[1] += 1\n",
    "                self.p_rewards[3] += 1\n",
    "                self.team_score[1] += 1\n",
    "\n",
    "\n",
    "            if self.players[player_id].actions == []:\n",
    "                return self.desk, 0, True, True\n",
    "            else:\n",
    "                return self.desk, 0, True, False\n",
    "\n",
    "        return self.desk, 0, False, False"
   ]
  },
  {
   "cell_type": "code",
   "execution_count": 6,
   "id": "7c9b9b9e",
   "metadata": {
    "_cell_guid": "2fcaa918-1252-4c2a-a6a6-9a3e888a3c0e",
    "_uuid": "4d4eb8c4-6d56-4731-9d16-76bcfbccace6",
    "collapsed": false,
    "execution": {
     "iopub.execute_input": "2024-07-06T16:30:34.628168Z",
     "iopub.status.busy": "2024-07-06T16:30:34.627832Z",
     "iopub.status.idle": "2024-07-06T16:30:34.638046Z",
     "shell.execute_reply": "2024-07-06T16:30:34.637136Z"
    },
    "executionInfo": {
     "elapsed": 9,
     "status": "ok",
     "timestamp": 1720234044731,
     "user": {
      "displayName": "J. V. G. Ransika",
      "userId": "13058150827256079313"
     },
     "user_tz": -330
    },
    "id": "UTFbQqVh-1OJ",
    "jupyter": {
     "outputs_hidden": false
    },
    "papermill": {
     "duration": 0.018308,
     "end_time": "2024-07-06T16:30:34.640093",
     "exception": false,
     "start_time": "2024-07-06T16:30:34.621785",
     "status": "completed"
    },
    "tags": []
   },
   "outputs": [],
   "source": [
    "class Player:\n",
    "    def __init__(self, env, policy_net, value_net, team, id):\n",
    "        self.policy_net = policy_net\n",
    "        self.value_net = value_net\n",
    "        self.env = env\n",
    "        self.actions = []\n",
    "        self.pre_rewards = []\n",
    "        self.policy_hidden = self.policy_net.init_hidden(1)\n",
    "        self.value_hidden = self.value_net.init_hidden(1)\n",
    "        self.team = team\n",
    "        self.id = id\n",
    "\n",
    "\n",
    "    def reset_hidden(self):\n",
    "        self.policy_hidden = self.policy_net.init_hidden(1)\n",
    "        self.value_hidden = self.value_net.init_hidden(1)\n",
    "\n",
    "\n",
    "    def play(self):\n",
    "        state = torch.tensor(input_arr(self.env.trump, self.env.hand, self.actions, [c for i, c in enumerate(self.env.desk) if i%2 == self.team], [c for i, c in enumerate(self.env.desk) if i%2 != self.team]), dtype=torch.float32).unsqueeze(0).unsqueeze(0)\n",
    "\n",
    "        # state_tensor = torch.tensor(state, dtype=torch.float32).unsqueeze(0).unsqueeze(0)\n",
    "        action_probs, self.policy_hidden = self.policy_net(state, self.policy_hidden)\n",
    "\n",
    "        try:\n",
    "            action = torch.multinomial(action_probs, 1).item()\n",
    "        except RuntimeError:\n",
    "            print(f'action probs - {action_probs}')\n",
    "            print(f'state - {state}')\n",
    "            print(f'policy_hidden - {self.policy_hidden}')\n",
    "            raise RuntimeError\n",
    "\n",
    "        next_state, reward, r_done, done = self.env.step(CARDS[action], self.id)\n",
    "\n",
    "        return state,action,reward, r_done, done"
   ]
  },
  {
   "cell_type": "code",
   "execution_count": 7,
   "id": "950263b4",
   "metadata": {
    "_cell_guid": "9b20ace7-a888-4657-aa9e-2cb6d1ac1d0b",
    "_uuid": "783a3daa-754e-470c-89e2-5c44c9652e5a",
    "collapsed": false,
    "execution": {
     "iopub.execute_input": "2024-07-06T16:30:34.651821Z",
     "iopub.status.busy": "2024-07-06T16:30:34.651445Z",
     "iopub.status.idle": "2024-07-06T16:30:34.657422Z",
     "shell.execute_reply": "2024-07-06T16:30:34.656623Z"
    },
    "executionInfo": {
     "elapsed": 8,
     "status": "ok",
     "timestamp": 1720234044731,
     "user": {
      "displayName": "J. V. G. Ransika",
      "userId": "13058150827256079313"
     },
     "user_tz": -330
    },
    "id": "pL_QxEzlJsrk",
    "jupyter": {
     "outputs_hidden": false
    },
    "papermill": {
     "duration": 0.014535,
     "end_time": "2024-07-06T16:30:34.659657",
     "exception": false,
     "start_time": "2024-07-06T16:30:34.645122",
     "status": "completed"
    },
    "tags": []
   },
   "outputs": [],
   "source": [
    "class ReplayBuffer:\n",
    "    def __init__(self, capacity):\n",
    "        self.buffer = deque(maxlen=capacity)\n",
    "\n",
    "    def push(self, states, actions, rewards):\n",
    "        self.buffer.append((states, actions, rewards))\n",
    "\n",
    "    def sample(self, batch_size):\n",
    "        return random.sample(self.buffer, batch_size)\n",
    "\n",
    "    def __len__(self):\n",
    "        return len(self.buffer)"
   ]
  },
  {
   "cell_type": "code",
   "execution_count": 8,
   "id": "9d316793",
   "metadata": {
    "_cell_guid": "4b814f6d-f1e6-44da-af6f-eca61344941e",
    "_uuid": "2d1cb691-ae62-40ea-bc36-f6f718633a5c",
    "collapsed": false,
    "execution": {
     "iopub.execute_input": "2024-07-06T16:30:34.671263Z",
     "iopub.status.busy": "2024-07-06T16:30:34.670864Z",
     "iopub.status.idle": "2024-07-06T16:30:34.694173Z",
     "shell.execute_reply": "2024-07-06T16:30:34.693272Z"
    },
    "executionInfo": {
     "elapsed": 4,
     "status": "ok",
     "timestamp": 1720234045276,
     "user": {
      "displayName": "J. V. G. Ransika",
      "userId": "13058150827256079313"
     },
     "user_tz": -330
    },
    "id": "hjW4PCCI-1OK",
    "jupyter": {
     "outputs_hidden": false
    },
    "papermill": {
     "duration": 0.03196,
     "end_time": "2024-07-06T16:30:34.696669",
     "exception": false,
     "start_time": "2024-07-06T16:30:34.664709",
     "status": "completed"
    },
    "tags": []
   },
   "outputs": [],
   "source": [
    "# Load the TensorBoard notebook extension\n",
    "%load_ext tensorboard"
   ]
  },
  {
   "cell_type": "code",
   "execution_count": 9,
   "id": "47ccec57",
   "metadata": {
    "_cell_guid": "778d6b4b-e43e-4901-8354-a1e3cea0dc77",
    "_uuid": "4a68b3de-7eec-4043-bcb3-89e6b313e007",
    "collapsed": false,
    "execution": {
     "iopub.execute_input": "2024-07-06T16:30:34.708686Z",
     "iopub.status.busy": "2024-07-06T16:30:34.707949Z",
     "iopub.status.idle": "2024-07-06T16:30:48.722920Z",
     "shell.execute_reply": "2024-07-06T16:30:48.721869Z"
    },
    "executionInfo": {
     "elapsed": 4980,
     "status": "ok",
     "timestamp": 1720234051230,
     "user": {
      "displayName": "J. V. G. Ransika",
      "userId": "13058150827256079313"
     },
     "user_tz": -330
    },
    "id": "QkYLMPe-_UWZ",
    "jupyter": {
     "outputs_hidden": false
    },
    "papermill": {
     "duration": 14.023489,
     "end_time": "2024-07-06T16:30:48.725323",
     "exception": false,
     "start_time": "2024-07-06T16:30:34.701834",
     "status": "completed"
    },
    "tags": []
   },
   "outputs": [
    {
     "name": "stderr",
     "output_type": "stream",
     "text": [
      "2024-07-06 16:30:37.201089: E external/local_xla/xla/stream_executor/cuda/cuda_dnn.cc:9261] Unable to register cuDNN factory: Attempting to register factory for plugin cuDNN when one has already been registered\n",
      "2024-07-06 16:30:37.201252: E external/local_xla/xla/stream_executor/cuda/cuda_fft.cc:607] Unable to register cuFFT factory: Attempting to register factory for plugin cuFFT when one has already been registered\n",
      "2024-07-06 16:30:37.351845: E external/local_xla/xla/stream_executor/cuda/cuda_blas.cc:1515] Unable to register cuBLAS factory: Attempting to register factory for plugin cuBLAS when one has already been registered\n"
     ]
    }
   ],
   "source": [
    "from torch.utils.tensorboard import SummaryWriter\n",
    "writer = SummaryWriter()"
   ]
  },
  {
   "cell_type": "code",
   "execution_count": 10,
   "id": "04c3a7bf",
   "metadata": {
    "_cell_guid": "7292c07d-915f-473d-903b-6432fe5f5681",
    "_uuid": "bf58f0fb-5d71-41dc-ba14-c72ef93d353c",
    "collapsed": false,
    "execution": {
     "iopub.execute_input": "2024-07-06T16:30:48.737581Z",
     "iopub.status.busy": "2024-07-06T16:30:48.736917Z",
     "iopub.status.idle": "2024-07-06T20:03:25.858288Z",
     "shell.execute_reply": "2024-07-06T20:03:25.857232Z"
    },
    "id": "fkZQPMMk-1OK",
    "jupyter": {
     "outputs_hidden": false
    },
    "papermill": {
     "duration": 12757.130542,
     "end_time": "2024-07-06T20:03:25.860921",
     "exception": false,
     "start_time": "2024-07-06T16:30:48.730379",
     "status": "completed"
    },
    "tags": []
   },
   "outputs": [
    {
     "name": "stdout",
     "output_type": "stream",
     "text": [
      "Episode 1000, Policy Loss: -16.12053871154785, Value Loss: 26.353824615478516\n",
      "Episode 2000, Policy Loss: -9.979921340942383, Value Loss: 119.14767456054688\n",
      "Episode 3000, Policy Loss: -3.838319778442383, Value Loss: 84.03274536132812\n",
      "Episode 4000, Policy Loss: -17.43337059020996, Value Loss: 45.759864807128906\n",
      "Episode 5000, Policy Loss: -8.238797187805176, Value Loss: 99.79226684570312\n",
      "Episode 6000, Policy Loss: -14.328836441040039, Value Loss: 59.44818115234375\n",
      "Episode 7000, Policy Loss: -3.4512832164764404, Value Loss: 36.28182601928711\n",
      "Episode 8000, Policy Loss: -3.158308744430542, Value Loss: 36.06560134887695\n",
      "Episode 9000, Policy Loss: -27.968687057495117, Value Loss: 65.95116424560547\n",
      "Episode 10000, Policy Loss: -4.389202117919922, Value Loss: 49.500213623046875\n",
      "Episode 11000, Policy Loss: -4.622098922729492, Value Loss: 104.79386901855469\n",
      "Episode 12000, Policy Loss: -8.353702545166016, Value Loss: 139.9403839111328\n",
      "Episode 13000, Policy Loss: -24.823617935180664, Value Loss: 137.6307373046875\n",
      "Episode 14000, Policy Loss: -61.937217712402344, Value Loss: 77.70519256591797\n",
      "Episode 15000, Policy Loss: -5.165566444396973, Value Loss: 27.283309936523438\n",
      "Episode 16000, Policy Loss: -31.17491912841797, Value Loss: 145.17953491210938\n",
      "Episode 17000, Policy Loss: -11.782682418823242, Value Loss: 401.1708679199219\n",
      "Episode 18000, Policy Loss: -15.530326843261719, Value Loss: 576.2182006835938\n",
      "Episode 19000, Policy Loss: -28.798938751220703, Value Loss: 631.7045288085938\n",
      "Episode 20000, Policy Loss: -3.4531915187835693, Value Loss: 535.8848266601562\n",
      "Episode 21000, Policy Loss: -15.378570556640625, Value Loss: 650.0714721679688\n",
      "Episode 22000, Policy Loss: -12.410531997680664, Value Loss: 538.9706420898438\n",
      "Episode 23000, Policy Loss: -7.488325595855713, Value Loss: 831.0977783203125\n",
      "Episode 24000, Policy Loss: -5.877194881439209, Value Loss: 1183.477783203125\n",
      "Episode 25000, Policy Loss: -1.658229112625122, Value Loss: 1391.0115966796875\n",
      "Episode 26000, Policy Loss: -16.826513290405273, Value Loss: 1754.464111328125\n",
      "Episode 27000, Policy Loss: -7.498370170593262, Value Loss: 2055.125732421875\n",
      "Episode 28000, Policy Loss: -23.439804077148438, Value Loss: 1905.77392578125\n",
      "Episode 29000, Policy Loss: -5.071215629577637, Value Loss: 3186.070556640625\n",
      "Episode 30000, Policy Loss: -14.047480583190918, Value Loss: 4676.5068359375\n",
      "Episode 31000, Policy Loss: -13.229272842407227, Value Loss: 5858.7802734375\n",
      "Episode 32000, Policy Loss: -2.6040947437286377, Value Loss: 7091.5380859375\n",
      "Episode 33000, Policy Loss: -6.31173038482666, Value Loss: 7085.37158203125\n",
      "Episode 34000, Policy Loss: -2.8217458724975586, Value Loss: 8155.431640625\n",
      "Episode 35000, Policy Loss: -14.671184539794922, Value Loss: 10027.2880859375\n",
      "Episode 36000, Policy Loss: -13.84776496887207, Value Loss: 11794.240234375\n",
      "Episode 37000, Policy Loss: -26.722820281982422, Value Loss: 13479.2509765625\n",
      "Episode 38000, Policy Loss: -12.506243705749512, Value Loss: 13896.0185546875\n",
      "Episode 39000, Policy Loss: -10.169981002807617, Value Loss: 14087.43359375\n",
      "Episode 40000, Policy Loss: -2.3912570476531982, Value Loss: 15071.7626953125\n",
      "Episode 41000, Policy Loss: -5.592470169067383, Value Loss: 18287.05859375\n",
      "Episode 42000, Policy Loss: -5.353160858154297, Value Loss: 18809.02734375\n"
     ]
    }
   ],
   "source": [
    "from math import e\n",
    "import time\n",
    "\n",
    "time.sleep(3)\n",
    "\n",
    "# Define paths to save and load the models\n",
    "policy_model_path = 'policy_model.pth'\n",
    "value_model_path = 'value_model.pth'\n",
    "backup_directory = '/content/drive/My Drive/Colab Notebooks/Oomi Backups' # Replace with your path\n",
    "\n",
    "\n",
    "# Initialize the models and optimizers\n",
    "input_dim = 104\n",
    "hidden_dim = 128\n",
    "output_dim = 32\n",
    "\n",
    "batch_size = 32\n",
    "\n",
    "\n",
    "# Initialize Replay Buffer\n",
    "replay_buffer = ReplayBuffer(capacity=1000)  # Adjust capacity as needed\n",
    "\n",
    "# policy_net = LSTMModel(input_dim, hidden_dim, output_dim)\n",
    "# value_net = LSTMModel(input_dim, hidden_dim, output_dim, is_value_net=True)\n",
    "\n",
    "# Load existing models if available, otherwise create new ones\n",
    "if os.path.exists(policy_model_path):\n",
    "    policy_net = torch.load(policy_model_path)\n",
    "else:\n",
    "    policy_net = LSTMModel(input_dim, hidden_dim, output_dim)\n",
    "\n",
    "if os.path.exists(value_model_path):\n",
    "    value_net = torch.load(value_model_path)\n",
    "else:\n",
    "    value_net = LSTMModel(input_dim, hidden_dim, output_dim, is_value_net=True)\n",
    "\n",
    "\n",
    "env = OomiEnvironment(policy_net, value_net)\n",
    "policy_optimizer = optim.Adam(policy_net.parameters(), lr=1e-3)\n",
    "value_optimizer = optim.Adam(value_net.parameters(), lr=1e-3)\n",
    "\n",
    "# Training loop\n",
    "num_episodes = 43000\n",
    "gamma = 0.99\n",
    "\n",
    "for episode in range(num_episodes):\n",
    "    # Reset hidden states for all players\n",
    "    for player in env.players:\n",
    "        player.reset_hidden()\n",
    "\n",
    "    desk = env.reset()\n",
    "    done = False\n",
    "    states = [[] for _ in range(4)]\n",
    "    actions = [[] for _ in range(4)]\n",
    "    rewards = [[] for _ in range(4)]\n",
    "\n",
    "    for _ in range(8):\n",
    "        r_done = False\n",
    "        r_rewards = [[] for _ in range(4)]\n",
    "        for id in range(4):\n",
    "              state, action, reward, r_done, done = env.players[id].play()\n",
    "              states[id].append(state.tolist())\n",
    "              actions[id].append(action)\n",
    "              r_rewards[id].append(reward)\n",
    "\n",
    "        r_rewards = env.prep_rewards(r_rewards)\n",
    "        for i in range(4):\n",
    "            rewards[i].extend(r_rewards[i])\n",
    "        env.reset_round()\n",
    "\n",
    "    # add some overoll rewards\n",
    "    for i in range(4):\n",
    "        env.p_rewards[i] = env.team_score[i%2]\n",
    "    # if env.team_score[0] > env.team_score[1]:\n",
    "    #     env.p_rewards[0] += 5\n",
    "    #     env.p_rewards[2] += 5\n",
    "    # elif env.team_score[0] < env.team_score[1]:\n",
    "    #     env.p_rewards[1] += 5\n",
    "    #     env.p_rewards[3] += 5\n",
    "\n",
    "    rewards = env.prep_rewards(rewards)\n",
    "\n",
    "    for i in range(4):\n",
    "      replay_buffer.push(torch.tensor(states[i], dtype=torch.float32).squeeze(1),\n",
    "                         torch.tensor(actions[i], dtype=torch.int),\n",
    "                         torch.tensor(rewards, dtype=torch.float32))\n",
    "\n",
    "    # Sample from the replay buffer and update the networks\n",
    "    if len(replay_buffer) > batch_size:\n",
    "        policy_losses = []\n",
    "        value_losses = []\n",
    "\n",
    "        for states, actions, rewards  in replay_buffer.sample(batch_size):\n",
    "            sample_size = states.size(0)\n",
    "\n",
    "            # Policy Network Forward Pass\n",
    "            policy_hidden = policy_net.init_hidden(sample_size)\n",
    "            action_probs, policy_hidden = policy_net(states, policy_hidden)\n",
    "            selected_action_probs = action_probs[np.arange(sample_size), actions]\n",
    "\n",
    "            # Value Network Forward Pass\n",
    "            value_hidden = value_net.init_hidden(sample_size)\n",
    "            state_values, value_hidden = value_net(states, value_hidden)\n",
    "            state_values = state_values.squeeze()\n",
    "\n",
    "            advantages = rewards - state_values\n",
    "\n",
    "            # Compute policy loss and value loss\n",
    "            policy_loss = -torch.mean(torch.log(selected_action_probs + 1e-8) * advantages.detach())\n",
    "            value_loss = torch.mean((state_values - rewards) ** 2)\n",
    "\n",
    "            policy_losses.append(policy_loss.item())\n",
    "            value_losses.append(value_loss.item())\n",
    "\n",
    "            total_loss = policy_loss + value_loss\n",
    "\n",
    "            policy_optimizer.zero_grad()\n",
    "            value_optimizer.zero_grad()\n",
    "\n",
    "            total_loss.backward()\n",
    "\n",
    "            # Gradient clipping\n",
    "            torch.nn.utils.clip_grad_norm_(policy_net.parameters(), 0.5)\n",
    "            torch.nn.utils.clip_grad_norm_(value_net.parameters(), 0.5)\n",
    "\n",
    "            policy_optimizer.step()\n",
    "            value_optimizer.step()\n",
    "\n",
    "        policy_loss_mean = torch.mean(torch.tensor(policy_losses, dtype=torch.float32))\n",
    "        value_loss_mean = torch.mean(torch.tensor(value_losses, dtype=torch.float32))\n",
    "\n",
    "        writer.add_scalar(\"Loss/policy\", policy_loss_mean.item(), episode)\n",
    "        writer.add_scalar(\"Loss/value\", value_loss_mean.item(), episode)\n",
    "\n",
    "\n",
    "    # Save the models after each episode\n",
    "    torch.save(policy_net, policy_model_path)\n",
    "    torch.save(value_net, value_model_path)\n",
    "    os.makedirs(backup_directory, exist_ok=True)\n",
    "    torch.save(policy_net, os.path.join(backup_directory, f'policy_model.pth'))\n",
    "    torch.save(value_net, os.path.join(backup_directory, f'value_model.pth'))\n",
    "\n",
    "    try:\n",
    "        if episode % 1000 == 0:\n",
    "            print(f'Episode {episode}, Policy Loss: {policy_loss_mean.item()}, Value Loss: {value_loss_mean.item()}')\n",
    "    except NameError:\n",
    "        pass\n",
    "\n",
    "\n",
    "writer.flush()\n",
    "writer.close()"
   ]
  },
  {
   "cell_type": "code",
   "execution_count": 11,
   "id": "b1e5de68",
   "metadata": {
    "_cell_guid": "5992ab16-84d4-4ba5-b246-2d3bf08976c0",
    "_uuid": "0455198c-69d0-429c-9b7e-a84eb7a9aa5c",
    "collapsed": false,
    "execution": {
     "iopub.execute_input": "2024-07-06T20:03:25.878860Z",
     "iopub.status.busy": "2024-07-06T20:03:25.877950Z",
     "iopub.status.idle": "2024-07-06T20:03:32.401360Z",
     "shell.execute_reply": "2024-07-06T20:03:32.400183Z"
    },
    "executionInfo": {
     "elapsed": 5983,
     "status": "ok",
     "timestamp": 1720201717546,
     "user": {
      "displayName": "J. V. G. Ransika",
      "userId": "13058150827256079313"
     },
     "user_tz": -330
    },
    "id": "TqWKsKhe-1OK",
    "jupyter": {
     "outputs_hidden": false
    },
    "outputId": "8e757726-2bca-4f9e-fa96-7a5678e44a8a",
    "papermill": {
     "duration": 6.534878,
     "end_time": "2024-07-06T20:03:32.403960",
     "exception": false,
     "start_time": "2024-07-06T20:03:25.869082",
     "status": "completed"
    },
    "tags": []
   },
   "outputs": [
    {
     "data": {
      "text/html": [
       "\n",
       "      <iframe id=\"tensorboard-frame-ab86d31f677fa5aa\" width=\"100%\" height=\"800\" frameborder=\"0\">\n",
       "      </iframe>\n",
       "      <script>\n",
       "        (function() {\n",
       "          const frame = document.getElementById(\"tensorboard-frame-ab86d31f677fa5aa\");\n",
       "          const url = new URL(\"/\", window.location);\n",
       "          const port = 6006;\n",
       "          if (port) {\n",
       "            url.port = port;\n",
       "          }\n",
       "          frame.src = url;\n",
       "        })();\n",
       "      </script>\n",
       "    "
      ],
      "text/plain": [
       "<IPython.core.display.HTML object>"
      ]
     },
     "metadata": {},
     "output_type": "display_data"
    }
   ],
   "source": [
    "%tensorboard --logdir runs"
   ]
  },
  {
   "cell_type": "code",
   "execution_count": null,
   "id": "50ce2759",
   "metadata": {
    "_cell_guid": "f0449e93-63b8-4fd6-a7b3-98718d00ec8f",
    "_uuid": "2027cf31-36e8-442a-a2d4-ff8f015ca73f",
    "collapsed": false,
    "id": "JFWapSOKB7ZE",
    "jupyter": {
     "outputs_hidden": false
    },
    "papermill": {
     "duration": 0.007649,
     "end_time": "2024-07-06T20:03:32.419992",
     "exception": false,
     "start_time": "2024-07-06T20:03:32.412343",
     "status": "completed"
    },
    "tags": []
   },
   "outputs": [],
   "source": []
  }
 ],
 "metadata": {
  "colab": {
   "name": "",
   "version": ""
  },
  "kaggle": {
   "accelerator": "none",
   "dataSources": [],
   "dockerImageVersionId": 30732,
   "isGpuEnabled": false,
   "isInternetEnabled": true,
   "language": "python",
   "sourceType": "notebook"
  },
  "kernelspec": {
   "display_name": "Python 3",
   "language": "python",
   "name": "python3"
  },
  "language_info": {
   "codemirror_mode": {
    "name": "ipython",
    "version": 3
   },
   "file_extension": ".py",
   "mimetype": "text/x-python",
   "name": "python",
   "nbconvert_exporter": "python",
   "pygments_lexer": "ipython3",
   "version": "3.10.13"
  },
  "papermill": {
   "default_parameters": {},
   "duration": 12786.728368,
   "end_time": "2024-07-06T20:03:35.068878",
   "environment_variables": {},
   "exception": null,
   "input_path": "__notebook__.ipynb",
   "output_path": "__notebook__.ipynb",
   "parameters": {},
   "start_time": "2024-07-06T16:30:28.340510",
   "version": "2.5.0"
  }
 },
 "nbformat": 4,
 "nbformat_minor": 5
}
